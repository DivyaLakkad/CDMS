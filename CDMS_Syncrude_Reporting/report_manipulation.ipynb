{
 "metadata": {
  "language_info": {
   "codemirror_mode": {
    "name": "ipython",
    "version": 3
   },
   "file_extension": ".py",
   "mimetype": "text/x-python",
   "name": "python",
   "nbconvert_exporter": "python",
   "pygments_lexer": "ipython3",
   "version": "3.9.0"
  },
  "orig_nbformat": 2,
  "kernelspec": {
   "name": "python390jvsc74a57bd0000d7c38b206a8e2af4de2a2957882e99d8b782a2ba776ccf47fcdf900c2e8f2",
   "display_name": "Python 3.9.0 64-bit"
  }
 },
 "nbformat": 4,
 "nbformat_minor": 2,
 "cells": [
  {
   "cell_type": "code",
   "execution_count": 320,
   "metadata": {},
   "outputs": [],
   "source": [
    "import pandas as pd\n",
    "import numpy as np\n",
    "from datetime import datetime, timedelta"
   ]
  },
  {
   "cell_type": "code",
   "execution_count": 321,
   "metadata": {},
   "outputs": [
    {
     "output_type": "stream",
     "name": "stderr",
     "text": [
      "C:\\Users\\divyal\\AppData\\Local\\Programs\\Python\\Python39\\lib\\site-packages\\openpyxl\\styles\\stylesheet.py:214: UserWarning: Workbook contains no default style, apply openpyxl's default\n  warn(\"Workbook contains no default style, apply openpyxl's default\")\n"
     ]
    }
   ],
   "source": [
    "path = 'reconsile_payment.xlsx'\n",
    "remit_file = 'Remittances.xlsx'\n",
    "lookup_file = 'CDMS Lookups.xlsx'\n",
    "df = pd.read_excel(path, engine='openpyxl')\n",
    "df_remit = pd.read_excel(remit_file, engine='openpyxl')\n",
    "df_lookup = pd.read_excel(lookup_file, engine='openpyxl', sheet_name='PO Approvers')"
   ]
  },
  {
   "cell_type": "code",
   "execution_count": 322,
   "metadata": {},
   "outputs": [],
   "source": [
    "df_lookup_new = df_lookup.iloc[:,:2]\n"
   ]
  },
  {
   "cell_type": "code",
   "execution_count": 323,
   "metadata": {},
   "outputs": [],
   "source": [
    "df_billable = df.loc[df['Skil_Eqip_Mat'] != 'Nonbillable'].copy()\n"
   ]
  },
  {
   "cell_type": "code",
   "execution_count": 324,
   "metadata": {},
   "outputs": [],
   "source": [
    "def module (row):\n",
    "    if row[\"Module\"] == \"Material\":\n",
    "        return row[\"OT_Hours\"]\n",
    "    else:\n",
    "        return row[\"ST_Rate\"] * row[\"ST_Hours\"] + row[\"OT_Rate\"] * row[\"OT_Hours\"] + row[\"DT_Hours\"] * row[\"DT_Rate\"]\n",
    "\n",
    "\n",
    "def auth (row):\n",
    "    if row[\"timesheet_reference\"] > 0:\n",
    "        return \"Authorized\"\n",
    "    else:\n",
    "        return \"Unauthorized\"\n",
    "\n",
    "\n",
    "def status (row):\n",
    "    if row[\"Paid\"] == \"OutStanding\":\n",
    "        return \"OutStanding\"\n",
    "    else:\n",
    "        return \"Paid\"\n",
    "\n",
    "\n",
    "def week_ending(row):\n",
    "    ini_date = pd.to_datetime(row[\"TS_Int\"])\n",
    "    new_date = timedelta((12- ini_date.weekday()) % 7)\n",
    "    week_end_date = ini_date + new_date\n",
    "    return week_end_date\n",
    "\n",
    "def emp_unit(row):\n",
    "    if row[\"Module\"] == \"Labour\":\n",
    "        return f'{row[\"Name1\"]} {row[\"Name2\"]}'\n",
    "\n",
    "    elif row[\"Module\"] == \"Equipment\":\n",
    "        return f'{row[\"employee_or_equipment_id\"]} {row[\"Name1\"]}'\n",
    "\n",
    "    elif row[\"Module\"] == \"Material\":\n",
    "        return row[\"Name1\"]\n",
    "    \n",
    "    else:\n",
    "        return \"Check\"\n"
   ]
  },
  {
   "cell_type": "code",
   "execution_count": 325,
   "metadata": {},
   "outputs": [],
   "source": [
    "df_billable['Line Cost'] = df_billable.apply(lambda row: module (row), axis=1)\n"
   ]
  },
  {
   "cell_type": "code",
   "execution_count": 326,
   "metadata": {},
   "outputs": [],
   "source": [
    "df_billable['Authorized'] = df_billable.apply(lambda row: auth (row), axis=1)"
   ]
  },
  {
   "cell_type": "code",
   "execution_count": 327,
   "metadata": {},
   "outputs": [],
   "source": [
    "df_billable['Week Ending'] = df_billable.apply(lambda row: week_ending (row), axis=1)"
   ]
  },
  {
   "cell_type": "code",
   "execution_count": 328,
   "metadata": {},
   "outputs": [],
   "source": [
    "new_header = df_remit.iloc[2] #grab the first row for the header\n",
    "df_remit_new = df_remit[3:] #take the data less the header row\n",
    "df_remit_new.columns = new_header #set the header row as the df header\n"
   ]
  },
  {
   "cell_type": "code",
   "execution_count": 329,
   "metadata": {},
   "outputs": [],
   "source": [
    "df_temp = pd.DataFrame(df_remit_new[['Amount', 'Date Paid']]).copy()\n",
    "\n",
    "df_temp.rename(columns={'Amount': 'timesheet_reference'}, inplace=True)\n",
    "df_temp\n",
    "df_temp.dropna(inplace=True)\n"
   ]
  },
  {
   "cell_type": "code",
   "execution_count": 330,
   "metadata": {},
   "outputs": [
    {
     "output_type": "execute_result",
     "data": {
      "text/plain": [
       "0             NaN\n",
       "1             NaN\n",
       "2             NaN\n",
       "3             0.0\n",
       "4             0.0\n",
       "          ...    \n",
       "2548    4788110.0\n",
       "2549    4788110.0\n",
       "2550    4788110.0\n",
       "2551    4788110.0\n",
       "2552    4791847.0\n",
       "Name: timesheet_reference, Length: 1696, dtype: float64"
      ]
     },
     "metadata": {},
     "execution_count": 330
    }
   ],
   "source": [
    "df_billable['timesheet_reference'].round(2)"
   ]
  },
  {
   "cell_type": "code",
   "execution_count": 331,
   "metadata": {},
   "outputs": [],
   "source": [
    "df_billable = pd.merge(df_billable, \n",
    "                     df_temp, \n",
    "                     on ='timesheet_reference', \n",
    "                     how ='left')"
   ]
  },
  {
   "cell_type": "code",
   "execution_count": 332,
   "metadata": {},
   "outputs": [],
   "source": [
    "df_billable['Date Paid'].replace(np.nan, 'OutStanding', inplace=True)"
   ]
  },
  {
   "cell_type": "code",
   "execution_count": 333,
   "metadata": {},
   "outputs": [],
   "source": [
    "df_billable.rename(columns={'Date Paid': 'Paid'}, inplace=True)"
   ]
  },
  {
   "cell_type": "code",
   "execution_count": 334,
   "metadata": {},
   "outputs": [],
   "source": [
    "df_billable['Status'] = df_billable.apply(lambda row: status (row), axis=1)\n"
   ]
  },
  {
   "cell_type": "code",
   "execution_count": 335,
   "metadata": {},
   "outputs": [],
   "source": [
    "df_billable['Employee/Unit'] = df_billable.apply(lambda row: emp_unit (row), axis=1)"
   ]
  },
  {
   "cell_type": "code",
   "execution_count": 336,
   "metadata": {},
   "outputs": [],
   "source": [
    "df_lookup_new.rename(columns={'Area ID': 'area_id', 'Approver Name': 'Approver'}, inplace=True)"
   ]
  },
  {
   "cell_type": "code",
   "execution_count": 337,
   "metadata": {},
   "outputs": [],
   "source": [
    "df_billable = pd.merge(df_billable, \n",
    "                     df_lookup_new, \n",
    "                     on ='area_id', \n",
    "                     how ='left')\n"
   ]
  },
  {
   "cell_type": "code",
   "execution_count": 338,
   "metadata": {},
   "outputs": [],
   "source": [
    "auth_column = df_billable.pop('Authorized')\n",
    "df_billable.insert(0, 'Authorized', auth_column)"
   ]
  },
  {
   "cell_type": "code",
   "execution_count": 339,
   "metadata": {},
   "outputs": [],
   "source": [
    "status_column = df_billable.pop('Status')\n",
    "df_billable.insert(0, 'Status', status_column)"
   ]
  },
  {
   "cell_type": "code",
   "execution_count": 340,
   "metadata": {},
   "outputs": [],
   "source": [
    "paid_column = df_billable.pop('Paid')\n",
    "df_billable.insert(0, 'Paid', paid_column)"
   ]
  },
  {
   "cell_type": "code",
   "execution_count": 341,
   "metadata": {},
   "outputs": [],
   "source": [
    "week_ending_column = df_billable.pop('Week Ending')\n",
    "df_billable.insert(0, 'Week Ending', week_ending_column)"
   ]
  },
  {
   "cell_type": "code",
   "execution_count": 342,
   "metadata": {},
   "outputs": [],
   "source": [
    "emp_unit_column = df_billable.pop('Employee/Unit')\r\n",
    "df_billable.insert(0, 'Employee/Unit', emp_unit_column)"
   ]
  },
  {
   "cell_type": "code",
   "execution_count": 343,
   "metadata": {},
   "outputs": [],
   "source": [
    "approver_column = df_billable.pop('Approver')\n",
    "df_billable.insert(0, 'Approver', approver_column)"
   ]
  },
  {
   "cell_type": "code",
   "execution_count": 344,
   "metadata": {},
   "outputs": [],
   "source": [
    "line_cost_column = df_billable.pop('Line Cost')\n",
    "df_billable.insert(0, 'Line Cost', line_cost_column)"
   ]
  },
  {
   "cell_type": "code",
   "execution_count": 360,
   "metadata": {},
   "outputs": [],
   "source": [
    "df_billable\n",
    "# df_billable[\"TS_Int\"] = pd.to_datetime(df_billable[\"TS_Int\"].dt.strftime(\"%Y-%m-%d\"))\n",
    "df_billable[\"TS_Int\"] = pd.to_datetime(df_billable[\"TS_Int\"].astype(str), format='%Y-%m-%d')\n",
    "df_billable[\"Week Ending\"] = pd.to_datetime(df_billable[\"Week Ending\"].astype(str), format='%Y-%m-%d')\n",
    "df_billable[\"Week Ending\"] = df_billable[\"Week Ending\"].astype(str)\n",
    "df_billable[\"TS_Int\"] = df_billable[\"TS_Int\"].astype(str)\n",
    "df_billable['Agreement'] = df_billable['Agreement'].astype(str)\n"
   ]
  },
  {
   "cell_type": "code",
   "execution_count": 361,
   "metadata": {},
   "outputs": [],
   "source": [
    "df_billable.to_excel(\"new_test.xlsx\", index=False)"
   ]
  }
 ]
}